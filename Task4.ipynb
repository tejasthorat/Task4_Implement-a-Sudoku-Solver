{
 "cells": [
  {
   "cell_type": "markdown",
   "id": "adfe5977",
   "metadata": {},
   "source": [
    "# Implement a Sudoku Solver\n"
   ]
  },
  {
   "cell_type": "code",
   "execution_count": 1,
   "id": "90f49459",
   "metadata": {},
   "outputs": [
    {
     "name": "stdout",
     "output_type": "stream",
     "text": [
      "Solved Sudoku:\n",
      "5 3 4 | 6 7 8 | 9 1 2\n",
      "6 7 2 | 1 9 5 | 3 4 8\n",
      "1 9 8 | 3 4 2 | 5 6 7\n",
      "---------------------\n",
      "8 5 9 | 7 6 1 | 4 2 3\n",
      "4 2 6 | 8 5 3 | 7 9 1\n",
      "7 1 3 | 9 2 4 | 8 5 6\n",
      "---------------------\n",
      "9 6 1 | 5 3 7 | 2 8 4\n",
      "2 8 7 | 4 1 9 | 6 3 5\n",
      "3 4 5 | 2 8 6 | 1 7 9\n"
     ]
    }
   ],
   "source": [
    "def is_valid(board, row, col, num):\n",
    "    # Check if 'num' is not in the current row\n",
    "    for i in range(9):\n",
    "        if board[row][i] == num:\n",
    "            return False\n",
    "    \n",
    "    # Check if 'num' is not in the current column\n",
    "    for i in range(9):\n",
    "        if board[i][col] == num:\n",
    "            return False\n",
    "    \n",
    "    # Check if 'num' is not in the current 3x3 sub-grid\n",
    "    start_row, start_col = 3 * (row // 3), 3 * (col // 3)\n",
    "    for i in range(3):\n",
    "        for j in range(3):\n",
    "            if board[start_row + i][start_col + j] == num:\n",
    "                return False\n",
    "    \n",
    "    return True\n",
    "\n",
    "def solve_sudoku(board):\n",
    "    empty = find_empty(board)\n",
    "    if not empty:\n",
    "        return True  # Puzzle solved\n",
    "    \n",
    "    row, col = empty\n",
    "    \n",
    "    for num in range(1, 10):\n",
    "        if is_valid(board, row, col, num):\n",
    "            board[row][col] = num\n",
    "            \n",
    "            if solve_sudoku(board):\n",
    "                return True\n",
    "            \n",
    "            board[row][col] = 0  # Backtrack\n",
    "    \n",
    "    return False\n",
    "\n",
    "def find_empty(board):\n",
    "    for i in range(9):\n",
    "        for j in range(9):\n",
    "            if board[i][j] == 0:\n",
    "                return (i, j)  # Return position of the empty cell\n",
    "    return None\n",
    "\n",
    "def print_board(board):\n",
    "    for i in range(9):\n",
    "        if i % 3 == 0 and i != 0:\n",
    "            print(\"-\" * 21)\n",
    "        for j in range(9):\n",
    "            if j % 3 == 0 and j != 0:\n",
    "                print(\"|\", end=\" \")\n",
    "            if j == 8:\n",
    "                print(board[i][j])\n",
    "            else:\n",
    "                print(board[i][j], end=\" \")\n",
    "\n",
    "# Example Sudoku puzzle (0 represents empty cells)\n",
    "puzzle = [\n",
    "    [5, 3, 0, 0, 7, 0, 0, 0, 0],\n",
    "    [6, 0, 0, 1, 9, 5, 0, 0, 0],\n",
    "    [0, 9, 8, 0, 0, 0, 0, 6, 0],\n",
    "    [8, 0, 0, 0, 6, 0, 0, 0, 3],\n",
    "    [4, 0, 0, 8, 0, 3, 0, 0, 1],\n",
    "    [7, 0, 0, 0, 2, 0, 0, 0, 6],\n",
    "    [0, 6, 0, 0, 0, 0, 2, 8, 0],\n",
    "    [0, 0, 0, 4, 1, 9, 0, 0, 5],\n",
    "    [0, 0, 0, 0, 8, 0, 0, 7, 9]\n",
    "]\n",
    "\n",
    "# Solve the puzzle and print the result\n",
    "if solve_sudoku(puzzle):\n",
    "    print(\"Solved Sudoku:\")\n",
    "    print_board(puzzle)\n",
    "else:\n",
    "    print(\"No solution exists.\")\n"
   ]
  },
  {
   "cell_type": "code",
   "execution_count": null,
   "id": "47586059",
   "metadata": {},
   "outputs": [],
   "source": []
  }
 ],
 "metadata": {
  "kernelspec": {
   "display_name": "Python 3",
   "language": "python",
   "name": "python3"
  },
  "language_info": {
   "codemirror_mode": {
    "name": "ipython",
    "version": 3
   },
   "file_extension": ".py",
   "mimetype": "text/x-python",
   "name": "python",
   "nbconvert_exporter": "python",
   "pygments_lexer": "ipython3",
   "version": "3.8.8"
  }
 },
 "nbformat": 4,
 "nbformat_minor": 5
}
